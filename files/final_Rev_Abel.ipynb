{
 "cells": [
  {
   "cell_type": "markdown",
   "id": "0c1b4e40-0615-495e-bbd6-04a78135aaea",
   "metadata": {
    "id": "0c1b4e40-0615-495e-bbd6-04a78135aaea"
   },
   "source": [
    "\n",
    "<div align=center class=\"alert alert-block alert-info\">\n",
    "    <h1>Quantum machine learning classifier for medical data</h1>\n",
    "        <h1>Hackaton Fall Fest 2021</h1>\n",
    "</div>\n",
    "\n",
    "<img src=\"https://qiskitfallfest.hypeinnovation.com/apps/IMT/UploadedFiles/00/f_4b2b1cfc58c0075dc3f76793261d6a49/alexander-sinn-KgLtFCgfC28-unsplash.jpg.scaledto_1332_749.jpg?v=1634525599\"/>\n",
    "\n",
    "\n",
    "<div align=center class=\"alert alert-block alert-info\">\n",
    "    <h1>Tabla de contenido</h1>\n",
    "</div>\n",
    "\n",
    "| Índice |\n",
    "|:-|\n",
    "|[Introducción](#intro)|\n",
    "|[1. Aprendizaje maquina clasico](#step_1)|\n",
    "|[2. Aprendizaje maquina cuántico](#step_2)|\n",
    "|[3. Clasificación de datos medicos](#step_3)|\n",
    "|[4. Algoritmo de clasificacion variacional cuantico](#step_2b)|\n",
    "|\n",
    "||\n",
    "|[Implementacion del algoritmo](#challenge)|\n",
    "|[Paso 1: Set de datos](#step_4)|\n",
    "|[Paso 2: Normalizar set de datos](#step_5)|\n",
    "|[Paso 3: Codificacion de datos](#step_6)|\n",
    "|[Paso 4: Entrenamiento del modelo](#step_7)|\n",
    "|[Paso 5: Prueba del modelo](#step_8)|\n",
    "|Referencias|\n",
    "|\n",
    "|[Referencias](#qresource)|\n",
    "\n",
    "\n"
   ]
  },
  {
   "cell_type": "markdown",
   "id": "f73125ca-aabd-4726-8cc1-ad0edca3bf3e",
   "metadata": {
    "id": "f73125ca-aabd-4726-8cc1-ad0edca3bf3e"
   },
   "source": [
    "<h2><a id='intro'>Introducción</a></h2>\n",
    "El cómputo cuántico en su estado de desarrollo actual, puede implementar rutinas que mejoren las capacidades de los algoritmos clásicos, entre ellos algoritmos de aprendizaje maquina clásico, además de implementar nuevos algoritmos que aprovechen las propiedades del hardware y de las operaciones que puede computar una plataforma cuántica en la nube de IBM. En este proyecto, se propone una introducción al aprendizaje de maquina cuántico mediante un algoritmo cuántico variacional para clasificación, aplicándolo a dos conjuntos de datos médicos."
   ]
  },
  {
   "cell_type": "markdown",
   "id": "b951e6ed-b8ef-45a3-b6c7-dee71a6d2dfc",
   "metadata": {
    "id": "b951e6ed-b8ef-45a3-b6c7-dee71a6d2dfc"
   },
   "source": [
    "<h2><a id='step_1'>Aprendizaje máquina clásico</a></h2>\n",
    "\n",
    "El aprendizaje máquina es un campo de las ciencias de la computación el cual aplica elementos de estadística e inteligencia artificial, con lo cual genera algoritmos que se aproximan a describir algún fenómeno, puede ser de la naturaleza, sistema o generado por otro algoritmo. El proceso para aproximarnos a estas descripciones es:\n",
    "\n",
    "1) Reunir un conjunto de datos de dicho fenómeno. \n",
    "\n",
    "2) Construir un algoritmo basado en modelos estadísticos sobre el conjunto de datos.  \n",
    "\n",
    "El término aprendizaje proviene de la parte estadística, es encontrar las relaciones estadísticas que describen el conjunto de datos y posiblemente un fenómeno en específico. \n",
    "\n",
    "Existen diferentes tipos de aprendizaje: supervisado, semi-supervisado, no-supervisado y por refuerzo. En este ejemplo debido a la naturaleza del problema a resolver nos enfocaremos en el aprendizaje supervisado.\n",
    "\n",
    "## Aprendizaje supervisado\n",
    "En resolución de problemas usando aprendizaje supervisado, es necesario tener un conjunto de datos clasificados, en los que existen diferentes categorías de ejemplo. A cada elemento del conjunto de datos se le llama característica y a su correspondiente categoría se le llama etiqueta. El objetivo de un algoritmo de aprendizaje supervisado es producir un modelo que tome una característica como entrada y devuelva una clasificación correcta a esa característica.\n",
    "\n",
    "\n"
   ]
  },
  {
   "cell_type": "markdown",
   "id": "27db6bf0-2c74-403e-8a36-706f3e5a8686",
   "metadata": {
    "id": "27db6bf0-2c74-403e-8a36-706f3e5a8686"
   },
   "source": [
    "<h2><a id='step_2'>Aprendizaje máquina cuántico</a></h2>\n",
    "El aprendizaje de máquina cuántico nos permite operar sobre sistemas cuánticos para procesar información clásica codificada cuánticamente o puramente cuántica, esto nos permite usar estados cuánticos para reducir la velocidad de cómputo en términos de la complejidad algorítmica. "
   ]
  },
  {
   "cell_type": "markdown",
   "id": "be3160a3-f845-4c53-9664-26c90730cc7c",
   "metadata": {
    "id": "be3160a3-f845-4c53-9664-26c90730cc7c"
   },
   "source": [
    "<h2><a id='step_3'>Clasificación de datos médicos</a></h2>\n",
    "Algunos algoritmos de Machine Learning (ML) tienen el potencial de aplicarse en casi todos los campos de la medicina: creación de medicinas, ayuda en la toma de decisiones en tratamietos, detección de enfermedades, ayuda en el cuidado del paciente, entre otros.\n",
    "\n",
    "Con la ayuda del ML, el personal dedicado al cuidado de la salud puede resolver problemas complejos, tediosos o que necesitan mucho tiempo para resolverse.\n",
    "\n",
    "Usando algún algoritmo para clasificación, dado un dataset que contenga ciertos datos podemos hacer una clasificación entre si tiene alguna enfermedad o no."
   ]
  },
  {
   "cell_type": "markdown",
   "id": "af1fd48a-fbe0-46e6-ba59-7ee5c8a66908",
   "metadata": {
    "id": "af1fd48a-fbe0-46e6-ba59-7ee5c8a66908"
   },
   "source": [
    "<h2><a id='step_2b'>Algoritmo de clasificación variacional cuantico</a></h2>\n",
    "Un clasificador variacional cuántico es una aplicación de los algoritmos variacionales cuánticos, los cuales nos permiten resolver problemas desafiantes para las computadoras clásicas al igual que lo hacen las redes neuronales. Este tipo de algoritmos cuánticos nos permite aproximar funciones mediante la variación de los parámetros de los circuitos variacionales, los cuales son optimizados clásicamente, que nos permite implementar un algoritmo híbrido cuántico - clásico.  La información clásica se codifica cuánticamente, se evalúan los parámetros variacionales sobre la función de costo para entrenar el circuito y los resultados son entregados al ordenador clásico el cual usa algoritmos clásicos de optimización para estimar eficientemente los nuevos parámetros, y estos son actualizados en la computadora cuántica. \n",
    "\n",
    "Es posible construir un algoritmo de clasificación variacional usando este enfoque. Los circuitos paramétricos introducen transformaciones lineales y se introduce un no linealidad a partir de los productos tensoriales sobre una entrada de un dato de entrada al modelo. A esta no linealidad de una compuerta unitaria $V(x)$ puede usarse como un mapa de características. Una vez que los datos se codificaron cuánticamente, se evolucionan los datos mediante una transformación lineal usando el circuito parametrizado. $U(\\Theta)X(x) |\\psi> $. La función de costo en su forma general está definida análogamente como el mínimo error cuadrado, el error entre la etiqueta verdadera y el valor esperado medido con respecto de un observable.\n",
    "\n",
    "Un clasificador variacional cuántico consta de 4 elementos:\n",
    "1. Encoding de datos: Codifica los datos clásicos en estados cuánticos.\n",
    "2. El circuito variacional: Clasifica los datos mediante compuertas de rotación, controladas, etc. \n",
    "3. Un circuito de medición: Mide los estados cuánticos, mediante probabilidades.\n",
    "4. Un algoritmo de optimización: Optimiza los parámetros del circuito variacional, mediante un algoritmo clásico. \n",
    "![imagen.png](attachment:92ab0474-0d09-4b71-8838-34183c9b3463.png)\n"
   ]
  },
  {
   "cell_type": "markdown",
   "id": "cd938fd3-8945-4f8e-b17f-65cab0a9b267",
   "metadata": {
    "id": "cd938fd3-8945-4f8e-b17f-65cab0a9b267"
   },
   "source": [
    "<h2><a id='challenge'>Implementación del algoritmo</a></h2>"
   ]
  },
  {
   "cell_type": "code",
   "execution_count": 1,
   "id": "96ee9b03-b6b4-41d1-83ec-3f288895aa0b",
   "metadata": {
    "id": "96ee9b03-b6b4-41d1-83ec-3f288895aa0b"
   },
   "outputs": [
    {
     "name": "stderr",
     "output_type": "stream",
     "text": [
      "/opt/conda/lib/python3.8/site-packages/qiskit/aqua/__init__.py:86: DeprecationWarning: The package qiskit.aqua is deprecated. It was moved/refactored to qiskit-terra For more information see <https://github.com/Qiskit/qiskit-aqua/blob/main/README.md#migration-guide>\n",
      "  warn_package('aqua', 'qiskit-terra')\n",
      "/opt/conda/lib/python3.8/site-packages/qiskit/ml/__init__.py:40: DeprecationWarning: The package qiskit.ml is deprecated. It was moved/refactored to qiskit_machine_learning (pip install qiskit-machine-learning). For more information see <https://github.com/Qiskit/qiskit-aqua/blob/main/README.md#migration-guide>\n",
      "  warn_package('ml', 'qiskit_machine_learning', 'qiskit-machine-learning')\n"
     ]
    }
   ],
   "source": [
    "import numpy as np\n",
    "\n",
    "# Importing standard Qiskit libraries\n",
    "from qiskit import QuantumCircuit, transpile, Aer, IBMQ\n",
    "from qiskit.tools.jupyter import *\n",
    "from qiskit.visualization import *\n",
    "from ibm_quantum_widgets import *\n",
    "from qiskit.providers.aer import QasmSimulator\n",
    "\n",
    "\n",
    "from qiskit.ml.datasets import *\n",
    "from qiskit.aqua.components.optimizers import COBYLA, ADAM, SPSA, SLSQP, POWELL, L_BFGS_B, TNC, AQGD\n",
    "from qiskit.circuit.library import ZZFeatureMap, RealAmplitudes, PauliFeatureMap\n",
    "from qiskit.quantum_info import Statevector\n",
    "#----------------------------------------------------------------------------------\n",
    "import numpy as np\n",
    "import pandas as pd\n",
    "import matplotlib.pyplot as plt\n",
    "#----------------------------------------------------------------------------------\n",
    "from sklearn.utils import shuffle\n",
    "from sklearn.preprocessing import MinMaxScaler\n",
    "from sklearn.model_selection import train_test_split\n",
    "from sklearn.preprocessing import StandardScaler\n",
    "#---------------------------------------------------------------------------------\n",
    "# Loading your IBM Quantum account(s)\n",
    "provider = IBMQ.load_account()"
   ]
  },
  {
   "cell_type": "markdown",
   "id": "50efbec1-097f-4c28-b358-1fddd7310522",
   "metadata": {
    "id": "50efbec1-097f-4c28-b358-1fddd7310522"
   },
   "source": [
    "<h2><a id='step_4'>Paso 1: Set de datos</a></h2>"
   ]
  },
  {
   "cell_type": "markdown",
   "id": "_FECd8DhK6ST",
   "metadata": {
    "id": "_FECd8DhK6ST"
   },
   "source": [
    "#### Surveillance\n",
    "\n",
    "La base de datos usada es COVID-19 Surveillance Data Set: \n",
    "\n",
    "Es una base de datos que tiene identificado a posibles fuentes de contagio de la enfermedad COVID-19 en Indonesia y si se tiene al sujeto en monitoreo o bajo vigilancia.\n",
    "\n",
    "Códigos empleados ('1' significa que se realizó esta acción o que tiene estos síntomas, '0' significa que no se realizó esta acción o no tiene síntomas)\n",
    "\n",
    "Posee las siguientes categorias:\n",
    "\n",
    "A01: fiebre o historial de fiebre.\n",
    "\n",
    "A02: Síntomas y signos de dificultad respiratoria (toz, resfriado, garganta inflamada, etc...).\n",
    "\n",
    "A03: Neumonía severa o infecciones respiratorias agudas.\n",
    "\n",
    "A04: Falta de razones basadas en descripciones clínicas convincentes.\n",
    "\n",
    "A05: En los últimos 14 días previos a los síntomas, hay historial de viaje o haber vivido en lugares donde se reportaron contagios.\n",
    "\n",
    "A06: En los últimos 14 días antes de los síntomas, hay historial de viaje o estadía en un área local de transmisión en Indonesia.\n",
    "\n",
    "A07: Contacto con personas que dieron positivo a la enfermedad COVID-19 en los últimos 14 días.\n",
    "\n",
    "PUS: Persona bajo vigilancia.\n",
    "\n",
    "PIM: Persona monitoreada."
   ]
  },
  {
   "cell_type": "code",
   "execution_count": 2,
   "id": "01cf52f1-5333-4ff2-9cbe-27a3bbbcd2cd",
   "metadata": {
    "id": "01cf52f1-5333-4ff2-9cbe-27a3bbbcd2cd"
   },
   "outputs": [],
   "source": [
    "'''Parámetros'''\n",
    "#Número de Qubits\n",
    "n = 7   #7 Qubits\n",
    "#Semilla Aleatoria para método de validación\n",
    "RANDOM_STATE = 42\n",
    "LR = 1e-3\n",
    "#Nombres de clases\n",
    "class_labels = ['PUS', 'PIM']"
   ]
  },
  {
   "cell_type": "markdown",
   "id": "5b304138-72a3-4d83-88ff-aa8a4e677549",
   "metadata": {
    "id": "5b304138-72a3-4d83-88ff-aa8a4e677549",
    "tags": []
   },
   "source": [
    "<h2><a id='step_5'>Paso 2: Normalizar set de datos</a></h2>"
   ]
  },
  {
   "cell_type": "markdown",
   "id": "91b66435-683f-47e6-9fe6-5863cbda027f",
   "metadata": {
    "id": "91b66435-683f-47e6-9fe6-5863cbda027f"
   },
   "source": [
    "El primer paso en cualquier proceso de análisis de datos es la normalización de éstos. La normalización de los datos consiste en la preparación de los mismos para un posterior análisis, la normalización de los datos varía según el tipo de datos y el objetivo del análisis.  En este caso se utilizarán algoritmos cuánticos, por lo que el proceso de normalización se enfoncará a preparar los datos para este tipo de análisis."
   ]
  },
  {
   "cell_type": "markdown",
   "id": "3d0926d7-4ca5-4752-82af-5756dacd0436",
   "metadata": {
    "id": "3d0926d7-4ca5-4752-82af-5756dacd0436"
   },
   "source": [
    "En este proceso de normalización comenzamos mezclando los datos para introducir algo de aleatoriedad, eliminamos los atributos irrelevantes y normalizamos los datos utilizando sklearn.preprocessing.MinMaxScaler en el de $-2\\pi$ a $2\\pi$. Esto es para asegurarnos de que utilizamos el espacio de Hilbert de manera adecuada, ya que codificaremos los datos en estados cuánticos a través de ángulos de rotación. Dividimos los datos en un conjunto de entrenamiento para crear el modelo y un conjunto de prueba para probar el modelo, manteniendo el tamaño del conjunto de prueba en el 45% del conjunto de datos total."
   ]
  },
  {
   "cell_type": "code",
   "execution_count": 3,
   "id": "8cf183f6-c247-47fa-afa2-28ec6bdcd9d6",
   "metadata": {
    "id": "8cf183f6-c247-47fa-afa2-28ec6bdcd9d6"
   },
   "outputs": [],
   "source": [
    "'''Normalizamos los datos'''\n",
    "def normalizeData(DATA_PATH = \"Surveillance2.csv\"):\n",
    "    \"\"\"\n",
    "    Normalizes the data\n",
    "    \"\"\"\n",
    "    # Lee el dataset\n",
    "    data = pd.read_csv(DATA_PATH)\n",
    "    #Desordenamos aleatoriamente el dataset\n",
    "    data = shuffle(data, random_state=RANDOM_STATE)\n",
    "    #Guardamos en X los datos de los atributos y en Y las clases\n",
    "    X, Y = data[['A01', 'A02', 'A03', 'A04','A05','A06','A07']].values, data['Categories'].values\n",
    "    # normalizamos los datos en un rango de -2pi a 2pi\n",
    "    scaler = MinMaxScaler(feature_range=(-2 * np.pi, 2 * np.pi))\n",
    "    X = scaler.fit_transform(X)\n",
    "    #Partimos nuestro dataset para entrenamiento y prueba (Test y Train)\n",
    "    X_train, X_test, Y_train, Y_test = train_test_split(X, Y, test_size=0.3, random_state=RANDOM_STATE)\n",
    "    return X_train, X_test, Y_train, Y_test"
   ]
  },
  {
   "cell_type": "markdown",
   "id": "487e01b5-7413-48d2-a570-26159608e5dc",
   "metadata": {
    "id": "487e01b5-7413-48d2-a570-26159608e5dc"
   },
   "source": [
    "<h2><a id='step_6'>Paso 3: Codificación de datos</a></h2>\n",
    "## Quantum Encoding\n",
    "\n",
    "Para codificar nuestros datos en estados cuánticos, usaremos un Feature Map.\n",
    "\n",
    "Un Feature Map es una función que actua de la siguiente forma:\n",
    "\n",
    "$\\phi: \\chi \\to \\digamma$\n",
    "\n",
    "Donde $\\digamma$ es el Feature Space y $\\chi$ es el conjunto de datos de entrada.\n",
    "\n",
    "La salidas del mapeo en los puntos de datos individuales, $\\phi(x)$ para todo $x \\in \\chi$, se les conoce como vectores de características \n",
    "\n",
    "![imagen.png](attachment:4c56f694-eb2e-42d6-be80-207116465f2c.png)\n",
    "\n",
    "![imagen.png](attachment:839f9afb-33fd-4227-a513-c5f5753b88d9.png)\n",
    "\n",
    "Un mapa de características cuántico (Quantum feature map) es un mapa de características donde $\\digamma$ es un espacio vectorial, en cuántica: Espacio de Hilbert; y los vectores de características son estados cuánticos. El mapeo transforma x→|ϕ(x)⟩ como una transformación unitaria $U_{\\phi} (x)$ que depende de los datos de entrada.\n",
    "\n",
    "En este ejercicio se usará ZZFeatureMap, que es uno de los feature maps más usados en Quantum Machine Learning (QML). \n",
    "\n",
    "$\\phi$ es una función clásica no lineal, el cual por defecto es $\\phi(x)=x$ si $\\phi(x,y)=(\\pi-x)(\\pi-y)$.\n",
    "\n",
    "ZZFeatureMap es un circuito cuántico, en qiskit, que esta compuesto por compuertas de fase eje z y la X controlada. Donde:\n",
    "\n",
    "$\\begin{split}U1(\\theta) =\n",
    "    \\begin{pmatrix}\n",
    "        1 & 0 \\\\\n",
    "        0 & e^{i\\theta}\n",
    "    \\end{pmatrix}\\end{split}$\n",
    "    \n",
    "$\\begin{split}CX\\ q_0, q_1 =\n",
    "    I \\otimes |0\\rangle\\langle0| + X \\otimes |1\\rangle\\langle1| =\n",
    "    \\begin{pmatrix}\n",
    "        1 & 0 & 0 & 0 \\\\\n",
    "        0 & 0 & 0 & 1 \\\\\n",
    "        0 & 0 & 1 & 0 \\\\\n",
    "        0 & 1 & 0 & 0\n",
    "    \\end{pmatrix}\\end{split}$\n",
    "\n",
    "![imagen.png](attachment:821bf412-2e9d-4a1b-80bb-35930751f78e.png)\n",
    "\n",
    "Cada atributo del dataset es un qubit. En este ejemplo, tenemos 7 atributos ('A01', 'A02', 'A03', 'A04', 'A05', 'A06', 'A07' ), por lo que tendremos 7 qubits.\n",
    "\n",
    "El circuito utilizado, RealAmplitudes, es uno de los diferentes formas de hacer un circuito variacional, se utiliza comúnmente en QML. El circuito consta de capas alternadas con compuertas de rotaciones Y y compuertas x controladas. Se llama RealAmplitudes ya que los estados cuánticos preparados solo tendrán amplitudes reales, la parte compleja siempre es 0.\n",
    "\n",
    "![imagen.png](attachment:651d62f0-b0e2-4d7a-8258-0479890e9191.png)"
   ]
  },
  {
   "cell_type": "code",
   "execution_count": 4,
   "id": "c59d6b30-dac6-4ca5-9d11-a7b28ab9247a",
   "metadata": {
    "id": "c59d6b30-dac6-4ca5-9d11-a7b28ab9247a",
    "outputId": "b226b4b4-beb0-4b4b-bac8-e2b86842bd50"
   },
   "outputs": [
    {
     "name": "stderr",
     "output_type": "stream",
     "text": [
      "/tmp/ipykernel_301/2592169798.py:9: DeprecationWarning: The QuantumCircuit.combine() method is being deprecated. Use the compose() method which is more flexible w.r.t circuit register compatibility.\n",
      "  circuit = feature_map.combine(var_form)\n",
      "/opt/conda/lib/python3.8/site-packages/sympy/core/expr.py:3949: SymPyDeprecationWarning: \n",
      "\n",
      "expr_free_symbols method has been deprecated since SymPy 1.9. See\n",
      "https://github.com/sympy/sympy/issues/21494 for more info.\n",
      "\n",
      "  SymPyDeprecationWarning(feature=\"expr_free_symbols method\",\n"
     ]
    },
    {
     "data": {
      "image/png": "[encoded data removed]",
      "text/plain": [
       "<Figure size 929.397x445.48 with 1 Axes>"
      ]
     },
     "execution_count": 4,
     "metadata": {},
     "output_type": "execute_result"
    }
   ],
   "source": [
    "'''Inicializamos el Circuito Cuántico'''\n",
    "#Creamos el vector de estados con n qubits\n",
    "sv = Statevector.from_label('0'* n)\n",
    "#Encoding por Feature Map\n",
    "feature_map = ZZFeatureMap(n, reps=2, name='Encoding Circuit: ZZFeatureMap')\n",
    "#Circuito Variacional\n",
    "var_form = RealAmplitudes(n, reps=1, insert_barriers=True, name='Variational Circuit: Real Amplitudes')\n",
    "#Combinamos los circuitos\n",
    "circuit = feature_map.combine(var_form)\n",
    "#Imprimimos los circuitos\n",
    "feature_map.draw(output='mpl',filename=\"fm.png\" )\n",
    "var_form.draw(output='mpl', filename=\"vc.png\")\n",
    "circuit.draw(output='mpl', filename=\"c.png\")"
   ]
  },
  {
   "cell_type": "markdown",
   "id": "0f080cf0-7706-4e44-9fcf-ed5e1096fb00",
   "metadata": {
    "id": "0f080cf0-7706-4e44-9fcf-ed5e1096fb00"
   },
   "source": [
    "<h2><a id='step_7'>Paso 4: Entrenamiento del modelo</a></h2>"
   ]
  },
  {
   "cell_type": "markdown",
   "id": "73b79f2b-13d1-4dc5-a4e8-784f2e2c32f0",
   "metadata": {
    "id": "73b79f2b-13d1-4dc5-a4e8-784f2e2c32f0"
   },
   "source": [
    "Guardamos los parámetros obtenidos"
   ]
  },
  {
   "cell_type": "code",
   "execution_count": 5,
   "id": "d3dd62ad-db31-4634-af13-3c6e292cefaa",
   "metadata": {
    "id": "d3dd62ad-db31-4634-af13-3c6e292cefaa"
   },
   "outputs": [],
   "source": [
    "'''Función para obtener los parámetros del sistema'''\n",
    "def get_data_dict(params, x):\n",
    "    parameters = {}\n",
    "    #Obtenemos los parámetros del circuito de encoding\n",
    "    for i, p in enumerate(feature_map.ordered_parameters):\n",
    "        parameters[p] = x[i]\n",
    "    #Obtenemos los parámetros del circuito variacional de clasificación\n",
    "    for i, p in enumerate(var_form.ordered_parameters):\n",
    "        parameters[p] = params[i]\n",
    "    #print(parameters)\n",
    "    return parameters"
   ]
  },
  {
   "cell_type": "code",
   "execution_count": 6,
   "id": "51efb068-e7f0-43c6-9ceb-ca54347fbecc",
   "metadata": {
    "id": "51efb068-e7f0-43c6-9ceb-ca54347fbecc"
   },
   "outputs": [],
   "source": [
    "'''Asigna Etiquetas'''\n",
    "def assign_label(bit_string, class_labels):\n",
    "    hamming_weight = sum([int(k) for k in list(bit_string)])\n",
    "    #Se cuenta cuantas etiquetas de cada clase hay \n",
    "    is_odd_parity = hamming_weight & 1\n",
    "    #¿Es impar?\n",
    "    if is_odd_parity:\n",
    "        return class_labels[1]\n",
    "    #¿Es par?\n",
    "    else:\n",
    "        return class_labels[0]  "
   ]
  },
  {
   "cell_type": "code",
   "execution_count": 7,
   "id": "e2e1e21a-2a62-49f6-aab5-1aeb629e1523",
   "metadata": {
    "id": "e2e1e21a-2a62-49f6-aab5-1aeb629e1523"
   },
   "outputs": [],
   "source": [
    "''' Regresa las Probabilidades'''\n",
    "def return_probabilities(counts, class_labels):\n",
    "    shots = sum(counts.values())\n",
    "    result = {class_labels[0]: 0,\n",
    "    class_labels[1]: 0}\n",
    "    for key, item in counts.items():\n",
    "        label = assign_label(key, class_labels)\n",
    "        result[label] += counts[key]/shots\n",
    "    return result"
   ]
  },
  {
   "cell_type": "code",
   "execution_count": 8,
   "id": "b336945b-ca8b-4d20-ac18-3f07c8a2689c",
   "metadata": {
    "id": "b336945b-ca8b-4d20-ac18-3f07c8a2689c"
   },
   "outputs": [],
   "source": [
    "def classify(x_list, params, class_labels):\n",
    "    qc_list = []\n",
    "    for x in x_list:\n",
    "        circ_ = circuit.assign_parameters(get_data_dict(params, x))\n",
    "        qc = sv.evolve(circ_)\n",
    "        qc_list += [qc]\n",
    "        probs = []\n",
    "    for qc in qc_list:\n",
    "        counts = qc.probabilities_dict()\n",
    "        prob = return_probabilities(counts, class_labels)\n",
    "        probs += [prob]\n",
    "    return probs"
   ]
  },
  {
   "cell_type": "code",
   "execution_count": 9,
   "id": "a2a80afd-f9d5-42c3-98d9-f01d6f5b135c",
   "metadata": {
    "id": "a2a80afd-f9d5-42c3-98d9-f01d6f5b135c"
   },
   "outputs": [],
   "source": [
    "def mse_cost(probs, expected_label):\n",
    "    p = probs.get(expected_label)\n",
    "    actual, pred = np.array(1), np.array(p)\n",
    "    return np.square(np.subtract(actual,pred)).mean()"
   ]
  },
  {
   "cell_type": "code",
   "execution_count": 10,
   "id": "f861bada-4f4c-44ed-8dec-9ee240540185",
   "metadata": {
    "id": "f861bada-4f4c-44ed-8dec-9ee240540185"
   },
   "outputs": [],
   "source": [
    "cost_list = []\n",
    "def cost_function(X, Y, class_labels, params, shots=100, print_value=False):\n",
    "    # map training input to list of labels and list of samples\n",
    "    cost = 0\n",
    "    training_labels = []\n",
    "    training_samples = []\n",
    "    for sample in X:\n",
    "        training_samples += [sample]\n",
    "    for label in Y:\n",
    "        if label == 'PUS':\n",
    "            training_labels += [class_labels[0]]\n",
    "        elif label == 'PIM':\n",
    "            training_labels += [class_labels[1]]\n",
    "    probs = classify(training_samples, params, class_labels)\n",
    "    # evaluate costs for all classified samples\n",
    "    for i, prob in enumerate(probs):\n",
    "        cost += mse_cost(prob, training_labels[i])\n",
    "    cost /= len(training_samples)\n",
    "    cost_list.append(cost)\n",
    "    return cost"
   ]
  },
  {
   "cell_type": "code",
   "execution_count": 11,
   "id": "a4f6835e-f444-4c8b-bb79-2dab838ee217",
   "metadata": {
    "id": "a4f6835e-f444-4c8b-bb79-2dab838ee217"
   },
   "outputs": [],
   "source": [
    "cost_list = []\n",
    "def train_model(optimizer):\n",
    "    # Se define una funcion objetivo para entrenar\n",
    "    objective_function = lambda params: cost_function(X_train, Y_train, class_labels, params, print_value=True)\n",
    "    # Se inicilizan aleatoriamente los parametros\n",
    "    np.random.seed(RANDOM_STATE)\n",
    "    init_params = 2*np.pi*np.random.rand(n*(1)*2)\n",
    "    # Se entrena modelo\n",
    "    opt_params, value, _ = optimizer.optimize(len(init_params), objective_function, initial_point=init_params)\n",
    "    # Implime resultados\n",
    "    print('\\n Parametros de optimizacion\\n:', opt_params)\n",
    "    print('\\n Valor de optimizacion \\n: ', value)\n",
    "    fig = plt.figure()\n",
    "    plt.plot(range(0,len(cost_list),1), cost_list)\n",
    "    plt.xlabel('StIteracionese')\n",
    "    plt.ylabel('Resultado de la funciond de costo')\n",
    "    plt.title(\"Costo vs iteraciones\")\n",
    "    plt.show()\n",
    "    return opt_params\n"
   ]
  },
  {
   "cell_type": "markdown",
   "id": "fd619b6d-2135-48bb-aebe-0a7a12218874",
   "metadata": {
    "id": "fd619b6d-2135-48bb-aebe-0a7a12218874"
   },
   "source": [
    "<h2><a id='step_8'>Paso 5: Prueba del modelo</a></h2>"
   ]
  },
  {
   "cell_type": "code",
   "execution_count": 12,
   "id": "bb50a8fa-81c6-46a7-9689-09d94684dccb",
   "metadata": {
    "id": "bb50a8fa-81c6-46a7-9689-09d94684dccb"
   },
   "outputs": [],
   "source": [
    "def test_model(X, Y, class_labels, params):\n",
    "    accuracy = 0\n",
    "    training_labels = []\n",
    "    training_samples = []\n",
    "    for sample in X:\n",
    "        training_samples += [sample]\n",
    "    probs = classify(training_samples, params, class_labels)\n",
    "    for i, prob in enumerate(probs):\n",
    "        if (prob.get('PUS') >= prob.get('PIM')) and (Y_test[i] == 'PUS'):\n",
    "            accuracy += 1\n",
    "        elif (prob.get('PIM') >= prob.get('PUS')) and (Y_test[i] == 'PIM'):\n",
    "            accuracy += 1\n",
    "    accuracy /= len(Y_test)\n",
    "    print(\"Test accuracy: {}\\n\".format(accuracy))\n"
   ]
  },
  {
   "cell_type": "markdown",
   "id": "2s9SrVtHG6kW",
   "metadata": {
    "id": "2s9SrVtHG6kW"
   },
   "source": [
    "# Tipos de optimización empleados\n",
    "\n",
    "### COBYLA (Constrained optimization by linear approximation)\n",
    "\n",
    "Es una optimización numérica para problemas de restricciones la cual puede encontrar el vector $\\vec{x} \\in S$, siendo $S\\subseteq \\mathbf{R}^n$, que tenga la mínima, o máxima, $f(x)$ sin conocer $\\nabla f$.\n",
    "\n",
    "Inventado por Michael J. D. Powell (A Direct Search Optimization Method That Models the Objective and Constraint Functions by Linear Interpolation), realiza lo anterior aproximando iterativamente el problema de optimización restringido con problemas de programación lineal. En pocas palabras, en una iteración se resuelve un problema de programación lineal el cual arroja un candidato para la solución óptima. Posteriormente, se evalúa el candidato obtenido usando las funciones objetivo y de restricción originales, generando un nuevo dato en el espacio de optimización. Con esta nueva información, se realiza una nueva iteración para mejorar la aproximación de un nuevo problema de programación lineal. Cuando la solución no puede mejorar más, se reduce el paso de las iteraciones y, cuando son suficientemente pequeñas, termina el algoritmo.\n",
    "\n",
    "Algunas aplicaciones son:\n",
    "\n",
    "+ Planificación.\n",
    "+ Búsqueda óptima.\n",
    "+ Asignación de recursos.\n",
    "+ Optimización de redes.\n",
    "\n",
    "### ADAM (Adaptive Movement Estimation Algorithm)\n",
    "\n",
    "Es un algoritmo de optimización que emplea el enfoque de otros dos métodos de descenso de gradiente estocástico: AdaGrad, mantiene una tasa de aprendizaje por parámetro la cual mejora el rendimiento en problemas con gradientes escasos; y RMSProp (Root Mean Square Propagation), mantiene tasas de aprendizaje por parámetro que se adaptan en función del promedio de magnitudes recientes de los gradientes para el peso. Esta última característica permite que, así como RMSProp, ADAM funcione bien para problemas en línea o no estacionarios (con ruido).\n",
    "\n",
    "A diferencia de RMSProp, ADAM no sólo adapta las tasas de aprendizaje de los parámetros en función del primer momento promedio (la media), sino también usa el promedio de los segundos momentos de los gradientes (la varianza no centrada). De forma concreta, el algoritmo calcula un promedio móvil exponencial del gradiente y el gradiente al cuadrado, y los parámetros $\\beta_1$ y $\\beta_2$ controlan las tasas de caída de estos promedios móviles.\n",
    "\n",
    "Actualización del valor $\\alpha$\n",
    "\n",
    "$\\alpha (t) = \\alpha * \\frac{\\sqrt{1 - \\beta_2(t)}}{1 - \\beta_1(t)}$\n",
    "\n",
    "Los parámetros son:\n",
    "\n",
    "$\\alpha$ Tasa de aprendizaje o tamaño de paso. Es la proporción en la que se actualizan las ponderaciones (puede ser 0.01). Entre más grande sea el valor (0.4, por ejemplo), el aprendizaje inicial es más rápido, mientras que valores pequeños (0.00001) ralentizan el aprendizaje.\n",
    "\n",
    "$\\beta_1$ La tasa de caída exponencial para las estimaciones del primer momento.\n",
    "\n",
    "$\\beta_2$ La tasa de caída exponencial para las estimaciones del segundo momento. Este valor debe establecerse cerca de 1.0 en problemas con un gradiente escaso.\n",
    "\n",
    "$\\epsilon$ Un número muy pequeño para evitar cualquier división por cero en la implementación.\n",
    "\n",
    "Algunas aplicaciones son:\n",
    "\n",
    "+ Procesamiento de Lenguaje Natrual.\n",
    "+ Visión artificial.\n",
    "+ Deep Learning.\n",
    "+ Simulación.\n",
    "\n",
    "### SPSA (Simultaneous perturbation stochastic approximation)\n",
    "\n",
    "Es un método general para minimizar funciones multivariadas diferenciables, especialmente útil para funciones cuyo gradiente es imposible de evaluar o computacionalmente costoso. Provee un método estocástico para aproximar el gradiente de una función de costo diferenciable multivariable. Lo anterior lo realiza evaluando dos veces la función de costo usando parámetros de vectores peturbados: cada elemento del vector de parámetros original es desplazado por un valor aleatorio generado. Esta característica es lo que diferencía a este método de los métodos de diferencias finitas: en estos últimos, sólo un elemento del vector de parámetros es desplazado por evaluación.\n",
    "\n",
    "Al igual que los métodos basados en gradientes, SPSA comienza con un vector de parámetros inicial $\\hat{\\Theta}$ y, después de _k_ iteraciones, los _k+1_ parámetros iterados se pueden obtener de la siguiente forma:\n",
    "\n",
    "$\\hat{\\Theta_{k+1}} = \\hat{\\Theta_k} - a_k\\hat{g_k}(\\hat{\\Theta_k})$\n",
    "\n",
    "\n",
    "$\\hat{g_k}$ es el gradiente $g(\\Theta) = \\frac{\\partial L}{\\partial \\Theta}$ en la iteración $\\Theta_k$; $a_k$ es un entero positivo.\n",
    "\n",
    "Una de las más grandes ventajas de SPSA por sobre otros métodos es el poco costo computacional. Si el problema de optimización tiene una dimensionalidad de _p_,al requerir sólo dos mediciones de funciones objetivo por iteración, lo que es posible toda vez que no importa la dimensión del problema a optimizar para SPSA, hace que su costo computacional sea _p_ veces menor al de un método de diferencia finita, el cual tendría que realizar _2p_ medidas. Otra característica importante es que es muy útil para funciones que presentan ruido, ya que se adapta muy bien a estos casos.\n",
    "\n",
    "Algunas aplicaciones son:\n",
    "\n",
    "+ Diseño de circuitos.\n",
    "+ Imágenes médicas.\n",
    "+ Óptica adaptativa.\n",
    "+ Control de interfaces humano-copmutadora."
   ]
  },
  {
   "cell_type": "code",
   "execution_count": 13,
   "id": "e2582fcf-4bb8-46c8-94d5-26b08da00454",
   "metadata": {
    "id": "e2582fcf-4bb8-46c8-94d5-26b08da00454",
    "outputId": "bdc12ede-6810-4340-d8d7-5f0b3eb91fdc"
   },
   "outputs": [
    {
     "name": "stderr",
     "output_type": "stream",
     "text": [
      "/opt/conda/lib/python3.8/site-packages/qiskit/aqua/components/optimizers/optimizer.py:49: DeprecationWarning: The package qiskit.aqua.components.optimizers is deprecated. It was moved/refactored to qiskit.algorithms.optimizers (pip install qiskit-terra). For more information see <https://github.com/Qiskit/qiskit-aqua/blob/main/README.md#migration-guide>\n",
      "  warn_package('aqua.components.optimizers',\n",
      "/opt/conda/lib/python3.8/site-packages/qiskit/aqua/components/optimizers/spsa.py:237: DeprecationWarning: The variable qiskit.aqua.aqua_globals is deprecated. It was moved/refactored to qiskit.utils.algorithm_globals (pip install qiskit-terra). For more information see <https://github.com/Qiskit/qiskit-aqua/blob/main/README.md#migration-guide>\n",
      "  delta = 2 * aqua_globals.random.integers(2, size=np.shape(initial_theta)[0]) - 1\n"
     ]
    },
    {
     "name": "stdout",
     "output_type": "stream",
     "text": [
      "\n",
      " Parametros de optimizacion\n",
      ": [ 2.94323616  7.64930349  4.69613929  5.23705346  0.09711974  4.34027796\n",
      "  0.13707787  7.50995068  4.9919335   5.81123405 -1.6813459   6.34234746\n",
      "  4.61168277  2.96283804]\n",
      "\n",
      " Valor de optimizacion \n",
      ":  0.15924749481092715\n"
     ]
    },
    {
     "data": {
      "image/png": "[encoded data removed]",
      "text/plain": [
       "<Figure size 432x288 with 1 Axes>"
      ]
     },
     "metadata": {
      "needs_background": "light"
     },
     "output_type": "display_data"
    },
    {
     "name": "stdout",
     "output_type": "stream",
     "text": [
      "Test accuracy: 0.75\n",
      "\n"
     ]
    },
    {
     "data": {
      "text/plain": [
       "'El accuracy o exactitud expresa el porcentaje de casos que el modelo ha acertado, \\nes decir, ha clasificado correctamente basandose en el conjunto de entrenamiento. \\nEsta es una de las métricas más usadas y se usa con datasets balanceados'"
      ]
     },
     "execution_count": 13,
     "metadata": {},
     "output_type": "execute_result"
    }
   ],
   "source": [
    "''' Parte de Entrenamiento'''\n",
    "#El usuario puede elegir que optimizador usar\n",
    "X_train, X_test, Y_train, Y_test = normalizeData() #inicia_algoritmo\n",
    "SPSA_opt = SPSA(maxiter=100) #Optimizador SPSA\n",
    "ADAM_opt = ADAM(maxiter=100) #Optimizador ADAM\n",
    "COBYLA_opt = COBYLA(maxiter=100) #Optimizador COBYLA\n",
    "opt_params=train_model(SPSA_opt)  #Optimizador usado\n",
    "test_model(X_test, Y_test, class_labels, opt_params)\n",
    "'''El accuracy o exactitud expresa el porcentaje de casos que el modelo ha acertado, \n",
    "es decir, ha clasificado correctamente basandose en el conjunto de entrenamiento. \n",
    "Esta es una de las métricas más usadas y se usa con datasets balanceados'''"
   ]
  },
  {
   "cell_type": "markdown",
   "id": "bbc93dd4-5fc1-47ef-ade0-8779a3711fc3",
   "metadata": {
    "id": "bbc93dd4-5fc1-47ef-ade0-8779a3711fc3"
   },
   "source": [
    "<h2><a id='qresource'>Referencias</a></h2>"
   ]
  },
  {
   "cell_type": "markdown",
   "id": "economic-headset",
   "metadata": {
    "id": "2a04f424-0f0d-4dbd-9bd4-93271b8bb040"
   },
   "source": [
    "1. Biamonte J, Wittek P, Pancotti N, Rebentrost P, Wiebe N, Lloyd S. Quantum machine learning. Nature [Internet]. 2017;549(7671):195–202. Available from: http://dx.doi.org/10.1038/nature23474\n",
    "\n",
    "2. Lloyd S, Schuld M, Ijaz A, Izaac J, Killoran N. Quantum embeddings for machine learning. arXiv. 2020;1–11. \n",
    "\n",
    "3. Havlíček V, Córcoles AD, Temme K, Harrow AW, Kandala A, Chow JM, et al. Supervised learning with quantum-enhanced feature spaces. Nature. 2019;567(7747):209–12. \n",
    "\n",
    "4. Schuld M, Killoran N. Quantum Machine Learning in Feature Hilbert Spaces. Phys Rev Lett. 2019;122(4). \n",
    "\n",
    "5. Gil Fuster EM. Variational Quantum Classifier. \n",
    "\n",
    "6. Schuld M, Bocharov A, Svore KM, Wiebe N. Circuit-centric quantum classifiers. Phys Rev A. 2020;101(3):1–17. \n",
    "\n",
    "7. \"Qiskit\". Qiskit. https://qiskit.org/ \n",
    "\n",
    "8. \"PennyLane\". PennyLane. https://pennylane.ai/ \n",
    "9. 'UCI Machine Learning Repository', 1987 [Online]. Recueprada de: https://archive.ics.uci.edu/ml/datasets/COVID-19+Surveillance.\n"
   ]
  }
 ],
 "metadata": {
  "colab": {
   "collapsed_sections": [],
   "name": "QHack2 - Normalización(1).ipynb",
   "provenance": []
  },
  "kernelspec": {
   "display_name": "Python 3",
   "language": "python",
   "name": "python3"
  },
  "language_info": {
   "codemirror_mode": {
    "name": "ipython",
    "version": 3
   },
   "file_extension": ".py",
   "mimetype": "text/x-python",
   "name": "python",
   "nbconvert_exporter": "python",
   "pygments_lexer": "ipython3",
   "version": "3.8.5"
  },
  "widgets": {
   "application/vnd.jupyter.widget-state+json": {
    "state": {},
    "version_major": 2,
    "version_minor": 0
   }
  }
 },
 "nbformat": 4,
 "nbformat_minor": 5
}
